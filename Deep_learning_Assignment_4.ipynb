{
  "nbformat": 4,
  "nbformat_minor": 0,
  "metadata": {
    "colab": {
      "name": "Deep learning Assignment 4 .ipynb",
      "provenance": []
    },
    "kernelspec": {
      "name": "python3",
      "display_name": "Python 3"
    }
  },
  "cells": [
    {
      "cell_type": "code",
      "metadata": {
        "id": "EXxLwFT-meDP",
        "colab_type": "code",
        "colab": {}
      },
      "source": [
        "\n",
        "import tensorflow as tf\n",
        "from tensorflow.keras.datasets import cifar100\n",
        "from tensorflow.keras.layers import Dense,Dropout,Conv2D,Flatten,Activation\n",
        "from tensorflow.keras.models import Sequential\n",
        "from tensorflow.keras.utils import to_categorical"
      ],
      "execution_count": null,
      "outputs": []
    },
    {
      "cell_type": "markdown",
      "metadata": {
        "id": "CtzwrC1ym1eP",
        "colab_type": "text"
      },
      "source": [
        "\n",
        "Base Model for cifar100"
      ]
    },
    {
      "cell_type": "code",
      "metadata": {
        "id": "F_cqn7Psmt0V",
        "colab_type": "code",
        "colab": {
          "base_uri": "https://localhost:8080/",
          "height": 51
        },
        "outputId": "b9dc1291-a5e1-4d63-91ee-b05f511e9b78"
      },
      "source": [
        "(X_train,y_train),(X_test,y_test)=cifar100.load_data()\n",
        "\n",
        "X_train=X_train.reshape((-1,32*32*3))\n",
        "X_test=X_test.reshape((-1,32*32*3))\n",
        "\n",
        "X_train=X_train.astype('float32')\n",
        "X_test=X_test.astype('float32')\n",
        "\n",
        "#preprocess\n",
        "X_train=X_train/255.0\n",
        "X_test=X_test/255.0\n",
        "\n",
        "y_train=to_categorical(y_train)\n",
        "y_test=to_categorical(y_test)"
      ],
      "execution_count": null,
      "outputs": [
        {
          "output_type": "stream",
          "text": [
            "Downloading data from https://www.cs.toronto.edu/~kriz/cifar-100-python.tar.gz\n",
            "169009152/169001437 [==============================] - 6s 0us/step\n"
          ],
          "name": "stdout"
        }
      ]
    },
    {
      "cell_type": "code",
      "metadata": {
        "id": "LrVnG77vm59C",
        "colab_type": "code",
        "colab": {
          "base_uri": "https://localhost:8080/",
          "height": 51
        },
        "outputId": "b0a7407a-b727-4350-b167-c4c92abae11b"
      },
      "source": [
        "print(X_train.shape,y_train.shape)\n",
        "print(X_test.shape,y_test.shape)"
      ],
      "execution_count": null,
      "outputs": [
        {
          "output_type": "stream",
          "text": [
            "(50000, 3072) (50000, 100)\n",
            "(10000, 3072) (10000, 100)\n"
          ],
          "name": "stdout"
        }
      ]
    },
    {
      "cell_type": "code",
      "metadata": {
        "id": "5L2KWCo1nAtj",
        "colab_type": "code",
        "colab": {
          "base_uri": "https://localhost:8080/",
          "height": 323
        },
        "outputId": "bbc47f05-c811-43cd-ea2d-4144e622ebcf"
      },
      "source": [
        "##build model\n",
        "initializer=tf.keras.initializers.glorot_normal()\n",
        "\n",
        "model=Sequential()\n",
        "model.add(Dense(100,input_dim=3072,activation='relu',kernel_initializer=initializer,bias_initializer=initializer))\n",
        "model.add(Dense(256,activation='relu'))\n",
        "model.add(Dense(256,activation='relu'))\n",
        "model.add(Dense(124,activation='relu'))\n",
        "model.add(Dense(100,activation='softmax'))\n",
        "model.summary()"
      ],
      "execution_count": null,
      "outputs": [
        {
          "output_type": "stream",
          "text": [
            "Model: \"sequential\"\n",
            "_________________________________________________________________\n",
            "Layer (type)                 Output Shape              Param #   \n",
            "=================================================================\n",
            "dense (Dense)                (None, 100)               307300    \n",
            "_________________________________________________________________\n",
            "dense_1 (Dense)              (None, 256)               25856     \n",
            "_________________________________________________________________\n",
            "dense_2 (Dense)              (None, 256)               65792     \n",
            "_________________________________________________________________\n",
            "dense_3 (Dense)              (None, 124)               31868     \n",
            "_________________________________________________________________\n",
            "dense_4 (Dense)              (None, 100)               12500     \n",
            "=================================================================\n",
            "Total params: 443,316\n",
            "Trainable params: 443,316\n",
            "Non-trainable params: 0\n",
            "_________________________________________________________________\n"
          ],
          "name": "stdout"
        }
      ]
    },
    {
      "cell_type": "code",
      "metadata": {
        "id": "nbaYzk0wnEsp",
        "colab_type": "code",
        "colab": {}
      },
      "source": [
        "##compile model\n",
        "model.compile(loss='categorical_crossentropy',\n",
        "              metrics=['accuracy'],\n",
        "              optimizer='sgd')"
      ],
      "execution_count": null,
      "outputs": []
    },
    {
      "cell_type": "code",
      "metadata": {
        "id": "EW1madZznIVE",
        "colab_type": "code",
        "colab": {
          "base_uri": "https://localhost:8080/",
          "height": 697
        },
        "outputId": "54d2dd9d-7436-4367-a0b2-42ec5cce853b"
      },
      "source": [
        "es=tf.keras.callbacks.EarlyStopping(patience=3,monitor='val_loss',restore_best_weights=True)\n",
        "#mc=tf.keras.callbacks.ModelCheckpoint(filepath='cifar10-{epoch:02d}.hdf5',monitor='val_acc', verbose=1,save_best_only=True)\n",
        "history=model.fit(X_train,y_train,epochs=20,validation_split=0.1,callbacks=[es])"
      ],
      "execution_count": null,
      "outputs": [
        {
          "output_type": "stream",
          "text": [
            "Epoch 1/20\n",
            "1407/1407 [==============================] - 7s 5ms/step - loss: 4.4973 - accuracy: 0.0285 - val_loss: 4.3084 - val_accuracy: 0.0510\n",
            "Epoch 2/20\n",
            "1407/1407 [==============================] - 7s 5ms/step - loss: 4.0974 - accuracy: 0.0721 - val_loss: 3.9896 - val_accuracy: 0.0900\n",
            "Epoch 3/20\n",
            "1407/1407 [==============================] - 6s 4ms/step - loss: 3.8885 - accuracy: 0.1010 - val_loss: 3.8821 - val_accuracy: 0.0998\n",
            "Epoch 4/20\n",
            "1407/1407 [==============================] - 6s 4ms/step - loss: 3.7657 - accuracy: 0.1248 - val_loss: 3.9179 - val_accuracy: 0.1060\n",
            "Epoch 5/20\n",
            "1407/1407 [==============================] - 6s 5ms/step - loss: 3.6757 - accuracy: 0.1398 - val_loss: 3.7681 - val_accuracy: 0.1258\n",
            "Epoch 6/20\n",
            "1407/1407 [==============================] - 6s 4ms/step - loss: 3.5996 - accuracy: 0.1528 - val_loss: 3.6481 - val_accuracy: 0.1434\n",
            "Epoch 7/20\n",
            "1407/1407 [==============================] - 6s 5ms/step - loss: 3.5316 - accuracy: 0.1658 - val_loss: 3.6810 - val_accuracy: 0.1384\n",
            "Epoch 8/20\n",
            "1407/1407 [==============================] - 6s 5ms/step - loss: 3.4698 - accuracy: 0.1776 - val_loss: 3.5922 - val_accuracy: 0.1510\n",
            "Epoch 9/20\n",
            "1407/1407 [==============================] - 6s 5ms/step - loss: 3.4127 - accuracy: 0.1883 - val_loss: 3.5541 - val_accuracy: 0.1664\n",
            "Epoch 10/20\n",
            "1407/1407 [==============================] - 6s 4ms/step - loss: 3.3585 - accuracy: 0.1995 - val_loss: 3.5111 - val_accuracy: 0.1706\n",
            "Epoch 11/20\n",
            "1407/1407 [==============================] - 6s 4ms/step - loss: 3.3130 - accuracy: 0.2063 - val_loss: 3.5658 - val_accuracy: 0.1596\n",
            "Epoch 12/20\n",
            "1407/1407 [==============================] - 6s 4ms/step - loss: 3.2667 - accuracy: 0.2133 - val_loss: 3.4997 - val_accuracy: 0.1682\n",
            "Epoch 13/20\n",
            "1407/1407 [==============================] - 6s 4ms/step - loss: 3.2258 - accuracy: 0.2208 - val_loss: 3.4680 - val_accuracy: 0.1796\n",
            "Epoch 14/20\n",
            "1407/1407 [==============================] - 7s 5ms/step - loss: 3.1902 - accuracy: 0.2264 - val_loss: 3.4389 - val_accuracy: 0.1828\n",
            "Epoch 15/20\n",
            "1407/1407 [==============================] - 6s 4ms/step - loss: 3.1546 - accuracy: 0.2337 - val_loss: 3.4056 - val_accuracy: 0.1886\n",
            "Epoch 16/20\n",
            "1407/1407 [==============================] - 6s 4ms/step - loss: 3.1215 - accuracy: 0.2403 - val_loss: 3.5297 - val_accuracy: 0.1670\n",
            "Epoch 17/20\n",
            "1407/1407 [==============================] - 6s 4ms/step - loss: 3.0878 - accuracy: 0.2467 - val_loss: 3.3580 - val_accuracy: 0.2040\n",
            "Epoch 18/20\n",
            "1407/1407 [==============================] - 6s 4ms/step - loss: 3.0587 - accuracy: 0.2498 - val_loss: 3.3396 - val_accuracy: 0.1972\n",
            "Epoch 19/20\n",
            "1407/1407 [==============================] - 6s 4ms/step - loss: 3.0291 - accuracy: 0.2567 - val_loss: 3.3223 - val_accuracy: 0.2118\n",
            "Epoch 20/20\n",
            "1407/1407 [==============================] - 6s 4ms/step - loss: 3.0009 - accuracy: 0.2623 - val_loss: 3.4540 - val_accuracy: 0.1848\n"
          ],
          "name": "stdout"
        }
      ]
    },
    {
      "cell_type": "code",
      "metadata": {
        "id": "ZUmJLCgznQfB",
        "colab_type": "code",
        "colab": {
          "base_uri": "https://localhost:8080/",
          "height": 545
        },
        "outputId": "1aab9433-d817-42d0-8f94-384d15c8b779"
      },
      "source": [
        "\n",
        "import matplotlib.pyplot as plt\n",
        "acc = history.history['accuracy']\n",
        "val_acc = history.history['val_accuracy']\n",
        "loss = history.history['loss']\n",
        "val_loss = history.history['val_loss']\n",
        "\n",
        "epochs = range(len(acc))\n",
        "\n",
        "plt.plot(epochs, acc, 'bo', label='Training accuracy')\n",
        "plt.plot(epochs, val_acc, 'b', label='Validation accuracy')\n",
        "plt.title('Training and validation accuracy')\n",
        "\n",
        "plt.figure()\n",
        "\n",
        "plt.plot(epochs, loss, 'bo', label='Training Loss')\n",
        "plt.plot(epochs, val_loss, 'b', label='Validation Loss')\n",
        "plt.title('Training and validation loss')\n",
        "plt.legend()\n",
        "\n",
        "plt.show()"
      ],
      "execution_count": null,
      "outputs": [
        {
          "output_type": "display_data",
          "data": {
            "image/png": "[encoded data removed]",
            "text/plain": [
              "<Figure size 432x288 with 1 Axes>"
            ]
          },
          "metadata": {
            "tags": [],
            "needs_background": "light"
          }
        },
        {
          "output_type": "display_data",
          "data": {
            "image/png": "[encoded data removed]",
            "text/plain": [
              "<Figure size 432x288 with 1 Axes>"
            ]
          },
          "metadata": {
            "tags": [],
            "needs_background": "light"
          }
        }
      ]
    },
    {
      "cell_type": "markdown",
      "metadata": {
        "id": "O4z3qNvfnX3_",
        "colab_type": "text"
      },
      "source": [
        "\n",
        "Base Model for mnist"
      ]
    },
    {
      "cell_type": "code",
      "metadata": {
        "id": "IrNwF5GqnYnI",
        "colab_type": "code",
        "colab": {}
      },
      "source": [
        "from tensorflow.keras.datasets import mnist"
      ],
      "execution_count": null,
      "outputs": []
    },
    {
      "cell_type": "code",
      "metadata": {
        "id": "mir78a9wnb9Z",
        "colab_type": "code",
        "colab": {
          "base_uri": "https://localhost:8080/",
          "height": 51
        },
        "outputId": "f0ad8a46-4806-4ef8-fbf1-c6d4b3c706b3"
      },
      "source": [
        "(X_train,y_train),(X_test,y_test)=mnist.load_data()\n",
        "\n",
        "X_train=X_train.reshape((-1,28*28))\n",
        "X_test=X_test.reshape((-1,28*28))\n",
        "\n",
        "X_train=X_train.astype('float32')\n",
        "X_test=X_test.astype('float32')\n",
        "\n",
        "#preprocess\n",
        "X_train=X_train/255.0\n",
        "X_test=X_test/255.0\n",
        "\n",
        "y_train=to_categorical(y_train)\n",
        "y_test=to_categorical(y_test)"
      ],
      "execution_count": null,
      "outputs": [
        {
          "output_type": "stream",
          "text": [
            "Downloading data from https://storage.googleapis.com/tensorflow/tf-keras-datasets/mnist.npz\n",
            "11493376/11490434 [==============================] - 0s 0us/step\n"
          ],
          "name": "stdout"
        }
      ]
    },
    {
      "cell_type": "code",
      "metadata": {
        "id": "VMhMQN6onhHF",
        "colab_type": "code",
        "colab": {
          "base_uri": "https://localhost:8080/",
          "height": 34
        },
        "outputId": "c7b1b52d-1021-4abe-f6b8-6b111341c36d"
      },
      "source": [
        "X_train.shape,y_train.shape\n"
      ],
      "execution_count": null,
      "outputs": [
        {
          "output_type": "execute_result",
          "data": {
            "text/plain": [
              "((60000, 784), (60000, 10))"
            ]
          },
          "metadata": {
            "tags": []
          },
          "execution_count": 12
        }
      ]
    },
    {
      "cell_type": "code",
      "metadata": {
        "id": "zcyzE1h8nkLx",
        "colab_type": "code",
        "colab": {
          "base_uri": "https://localhost:8080/",
          "height": 323
        },
        "outputId": "c35d3e5e-5983-40ce-d9b2-d03f958b483b"
      },
      "source": [
        "##build model\n",
        "initializer=tf.keras.initializers.glorot_normal()\n",
        "\n",
        "model=Sequential()\n",
        "model.add(Dense(100,input_dim=784,activation='relu',kernel_initializer=initializer,bias_initializer=initializer))\n",
        "model.add(Dense(256,activation='relu'))\n",
        "model.add(Dense(256,activation='relu'))\n",
        "model.add(Dense(124,activation='relu'))\n",
        "model.add(Dense(10,activation='softmax'))\n",
        "model.summary()"
      ],
      "execution_count": null,
      "outputs": [
        {
          "output_type": "stream",
          "text": [
            "Model: \"sequential_1\"\n",
            "_________________________________________________________________\n",
            "Layer (type)                 Output Shape              Param #   \n",
            "=================================================================\n",
            "dense_5 (Dense)              (None, 100)               78500     \n",
            "_________________________________________________________________\n",
            "dense_6 (Dense)              (None, 256)               25856     \n",
            "_________________________________________________________________\n",
            "dense_7 (Dense)              (None, 256)               65792     \n",
            "_________________________________________________________________\n",
            "dense_8 (Dense)              (None, 124)               31868     \n",
            "_________________________________________________________________\n",
            "dense_9 (Dense)              (None, 10)                1250      \n",
            "=================================================================\n",
            "Total params: 203,266\n",
            "Trainable params: 203,266\n",
            "Non-trainable params: 0\n",
            "_________________________________________________________________\n"
          ],
          "name": "stdout"
        }
      ]
    },
    {
      "cell_type": "code",
      "metadata": {
        "id": "4ndX0iqdnqDy",
        "colab_type": "code",
        "colab": {}
      },
      "source": [
        "##compile model\n",
        "model.compile(loss='categorical_crossentropy',\n",
        "              metrics=['accuracy'],\n",
        "              optimizer='sgd')"
      ],
      "execution_count": null,
      "outputs": []
    },
    {
      "cell_type": "code",
      "metadata": {
        "id": "AgBc_SLHn7vp",
        "colab_type": "code",
        "colab": {
          "base_uri": "https://localhost:8080/",
          "height": 527
        },
        "outputId": "fcf6020b-d92d-4843-8bfc-9b4796886b37"
      },
      "source": [
        "es=tf.keras.callbacks.EarlyStopping(patience=3,monitor='val_loss',restore_best_weights=True)\n",
        "#mc=tf.keras.callbacks.ModelCheckpoint(filepath='cifar10-{epoch:02d}.hdf5',monitor='val_acc', verbose=1,save_best_only=True)\n",
        "history=model.fit(X_train,y_train,epochs=20,validation_split=0.1,callbacks=[es])"
      ],
      "execution_count": null,
      "outputs": [
        {
          "output_type": "stream",
          "text": [
            "Epoch 1/20\n",
            "1688/1688 [==============================] - 5s 3ms/step - loss: 0.7123 - accuracy: 0.7962 - val_loss: 0.2683 - val_accuracy: 0.9280\n",
            "Epoch 2/20\n",
            "1688/1688 [==============================] - 4s 3ms/step - loss: 0.2782 - accuracy: 0.9181 - val_loss: 0.2158 - val_accuracy: 0.9340\n",
            "Epoch 3/20\n",
            "1688/1688 [==============================] - 4s 3ms/step - loss: 0.2145 - accuracy: 0.9369 - val_loss: 0.1660 - val_accuracy: 0.9540\n",
            "Epoch 4/20\n",
            "1688/1688 [==============================] - 4s 3ms/step - loss: 0.1744 - accuracy: 0.9483 - val_loss: 0.1629 - val_accuracy: 0.9542\n",
            "Epoch 5/20\n",
            "1688/1688 [==============================] - 4s 3ms/step - loss: 0.1466 - accuracy: 0.9560 - val_loss: 0.1366 - val_accuracy: 0.9617\n",
            "Epoch 6/20\n",
            "1688/1688 [==============================] - 4s 3ms/step - loss: 0.1253 - accuracy: 0.9616 - val_loss: 0.1085 - val_accuracy: 0.9703\n",
            "Epoch 7/20\n",
            "1688/1688 [==============================] - 4s 3ms/step - loss: 0.1092 - accuracy: 0.9675 - val_loss: 0.1048 - val_accuracy: 0.9703\n",
            "Epoch 8/20\n",
            "1688/1688 [==============================] - 4s 3ms/step - loss: 0.0963 - accuracy: 0.9713 - val_loss: 0.1032 - val_accuracy: 0.9687\n",
            "Epoch 9/20\n",
            "1688/1688 [==============================] - 4s 3ms/step - loss: 0.0860 - accuracy: 0.9745 - val_loss: 0.1037 - val_accuracy: 0.9707\n",
            "Epoch 10/20\n",
            "1688/1688 [==============================] - 4s 3ms/step - loss: 0.0775 - accuracy: 0.9764 - val_loss: 0.0883 - val_accuracy: 0.9758\n",
            "Epoch 11/20\n",
            "1688/1688 [==============================] - 4s 3ms/step - loss: 0.0702 - accuracy: 0.9790 - val_loss: 0.0836 - val_accuracy: 0.9767\n",
            "Epoch 12/20\n",
            "1688/1688 [==============================] - 4s 3ms/step - loss: 0.0646 - accuracy: 0.9804 - val_loss: 0.0793 - val_accuracy: 0.9780\n",
            "Epoch 13/20\n",
            "1688/1688 [==============================] - 4s 3ms/step - loss: 0.0583 - accuracy: 0.9821 - val_loss: 0.0864 - val_accuracy: 0.9767\n",
            "Epoch 14/20\n",
            "1688/1688 [==============================] - 4s 3ms/step - loss: 0.0532 - accuracy: 0.9844 - val_loss: 0.0856 - val_accuracy: 0.9778\n",
            "Epoch 15/20\n",
            "1688/1688 [==============================] - 4s 3ms/step - loss: 0.0491 - accuracy: 0.9853 - val_loss: 0.0853 - val_accuracy: 0.9753\n"
          ],
          "name": "stdout"
        }
      ]
    },
    {
      "cell_type": "code",
      "metadata": {
        "id": "25FeyBBen_17",
        "colab_type": "code",
        "colab": {
          "base_uri": "https://localhost:8080/",
          "height": 51
        },
        "outputId": "d679d8e5-a08f-4379-e780-5903c13ecd10"
      },
      "source": [
        "model.evaluate(X_test,y_test)\n"
      ],
      "execution_count": null,
      "outputs": [
        {
          "output_type": "stream",
          "text": [
            "313/313 [==============================] - 0s 1ms/step - loss: 0.0878 - accuracy: 0.9738\n"
          ],
          "name": "stdout"
        },
        {
          "output_type": "execute_result",
          "data": {
            "text/plain": [
              "[0.08780819922685623, 0.973800003528595]"
            ]
          },
          "metadata": {
            "tags": []
          },
          "execution_count": 16
        }
      ]
    },
    {
      "cell_type": "code",
      "metadata": {
        "id": "CZnzwVafoDZE",
        "colab_type": "code",
        "colab": {
          "base_uri": "https://localhost:8080/",
          "height": 545
        },
        "outputId": "ae8d5396-bcb7-43f9-883c-74ce7240e0c1"
      },
      "source": [
        "import matplotlib.pyplot as plt\n",
        "acc = history.history['accuracy']\n",
        "val_acc = history.history['val_accuracy']\n",
        "loss = history.history['loss']\n",
        "val_loss = history.history['val_loss']\n",
        "\n",
        "epochs = range(len(acc))\n",
        "\n",
        "plt.plot(epochs, acc, 'bo', label='Training accuracy')\n",
        "plt.plot(epochs, val_acc, 'b', label='Validation accuracy')\n",
        "plt.title('Training and validation accuracy')\n",
        "\n",
        "plt.figure()\n",
        "\n",
        "plt.plot(epochs, loss, 'bo', label='Training Loss')\n",
        "plt.plot(epochs, val_loss, 'b', label='Validation Loss')\n",
        "plt.title('Training and validation loss')\n",
        "plt.legend()\n",
        "\n",
        "plt.show()"
      ],
      "execution_count": null,
      "outputs": [
        {
          "output_type": "display_data",
          "data": {
            "image/png": "[encoded data removed]",
            "text/plain": [
              "<Figure size 432x288 with 1 Axes>"
            ]
          },
          "metadata": {
            "tags": [],
            "needs_background": "light"
          }
        },
        {
          "output_type": "display_data",
          "data": {
            "image/png": "[encoded data removed]",
            "text/plain": [
              "<Figure size 432x288 with 1 Axes>"
            ]
          },
          "metadata": {
            "tags": [],
            "needs_background": "light"
          }
        }
      ]
    },
    {
      "cell_type": "markdown",
      "metadata": {
        "id": "Qdb1_qlZoJ92",
        "colab_type": "text"
      },
      "source": [
        "Base Model for fashion-mnist"
      ]
    },
    {
      "cell_type": "code",
      "metadata": {
        "id": "cpF2f7bQoGdb",
        "colab_type": "code",
        "colab": {}
      },
      "source": [
        "from tensorflow.keras.datasets import fashion_mnist"
      ],
      "execution_count": 25,
      "outputs": []
    },
    {
      "cell_type": "code",
      "metadata": {
        "id": "niIGncquoQNZ",
        "colab_type": "code",
        "colab": {
          "base_uri": "https://localhost:8080/",
          "height": 153
        },
        "outputId": "3397d4cf-815a-4a6b-de2a-c08209b2d1e2"
      },
      "source": [
        "(X_train,y_train),(X_test,y_test)=fashion_mnist.load_data()\n",
        "\n",
        "X_train=X_train.reshape((-1,28*28))\n",
        "X_test=X_test.reshape((-1,28*28))\n",
        "\n",
        "X_train=X_train.astype('float32')\n",
        "X_test=X_test.astype('float32')\n",
        "\n",
        "#preprocess\n",
        "X_train=X_train/255.0\n",
        "X_test=X_test/255.0\n",
        "\n",
        "y_train=to_categorical(y_train)\n",
        "y_test=to_categorical(y_test)"
      ],
      "execution_count": 26,
      "outputs": [
        {
          "output_type": "stream",
          "text": [
            "Downloading data from https://storage.googleapis.com/tensorflow/tf-keras-datasets/train-labels-idx1-ubyte.gz\n",
            "32768/29515 [=================================] - 0s 0us/step\n",
            "Downloading data from https://storage.googleapis.com/tensorflow/tf-keras-datasets/train-images-idx3-ubyte.gz\n",
            "26427392/26421880 [==============================] - 0s 0us/step\n",
            "Downloading data from https://storage.googleapis.com/tensorflow/tf-keras-datasets/t10k-labels-idx1-ubyte.gz\n",
            "8192/5148 [===============================================] - 0s 0us/step\n",
            "Downloading data from https://storage.googleapis.com/tensorflow/tf-keras-datasets/t10k-images-idx3-ubyte.gz\n",
            "4423680/4422102 [==============================] - 0s 0us/step\n"
          ],
          "name": "stdout"
        }
      ]
    },
    {
      "cell_type": "code",
      "metadata": {
        "id": "JhL662IvoS_J",
        "colab_type": "code",
        "colab": {
          "base_uri": "https://localhost:8080/",
          "height": 323
        },
        "outputId": "963f989f-360a-4c87-e97f-d1292e8684e1"
      },
      "source": [
        "##build model\n",
        "initializer=tf.keras.initializers.glorot_normal()\n",
        "\n",
        "model=Sequential()\n",
        "model.add(Dense(100,input_dim=784,activation='relu',kernel_initializer=initializer,bias_initializer=initializer))\n",
        "model.add(Dense(256,activation='relu'))\n",
        "model.add(Dense(256,activation='relu'))\n",
        "model.add(Dense(124,activation='relu'))\n",
        "model.add(Dense(10,activation='softmax'))\n",
        "model.summary()"
      ],
      "execution_count": 27,
      "outputs": [
        {
          "output_type": "stream",
          "text": [
            "Model: \"sequential_3\"\n",
            "_________________________________________________________________\n",
            "Layer (type)                 Output Shape              Param #   \n",
            "=================================================================\n",
            "dense_15 (Dense)             (None, 100)               78500     \n",
            "_________________________________________________________________\n",
            "dense_16 (Dense)             (None, 256)               25856     \n",
            "_________________________________________________________________\n",
            "dense_17 (Dense)             (None, 256)               65792     \n",
            "_________________________________________________________________\n",
            "dense_18 (Dense)             (None, 124)               31868     \n",
            "_________________________________________________________________\n",
            "dense_19 (Dense)             (None, 10)                1250      \n",
            "=================================================================\n",
            "Total params: 203,266\n",
            "Trainable params: 203,266\n",
            "Non-trainable params: 0\n",
            "_________________________________________________________________\n"
          ],
          "name": "stdout"
        }
      ]
    },
    {
      "cell_type": "code",
      "metadata": {
        "id": "uJmdjcQDoWSp",
        "colab_type": "code",
        "colab": {}
      },
      "source": [
        "\n",
        "##compile model\n",
        "model.compile(loss='categorical_crossentropy',\n",
        "              metrics=['accuracy'],\n",
        "              optimizer='sgd')"
      ],
      "execution_count": 28,
      "outputs": []
    },
    {
      "cell_type": "code",
      "metadata": {
        "id": "Tnt30NSQoY8p",
        "colab_type": "code",
        "colab": {
          "base_uri": "https://localhost:8080/",
          "height": 493
        },
        "outputId": "0fd20ecf-f257-4cb8-97cc-6ca1cd5a1300"
      },
      "source": [
        "es=tf.keras.callbacks.EarlyStopping(patience=3,monitor='val_loss',restore_best_weights=True)\n",
        "#mc=tf.keras.callbacks.ModelCheckpoint(filepath='cifar10-{epoch:02d}.hdf5',monitor='val_acc', verbose=1,save_best_only=True)\n",
        "history=model.fit(X_train,y_train,epochs=20,validation_split=0.1,callbacks=[es])"
      ],
      "execution_count": 29,
      "outputs": [
        {
          "output_type": "stream",
          "text": [
            "Epoch 1/20\n",
            "1688/1688 [==============================] - 5s 3ms/step - loss: 0.8032 - accuracy: 0.7224 - val_loss: 0.5503 - val_accuracy: 0.8058\n",
            "Epoch 2/20\n",
            "1688/1688 [==============================] - 4s 3ms/step - loss: 0.4989 - accuracy: 0.8229 - val_loss: 0.4845 - val_accuracy: 0.8297\n",
            "Epoch 3/20\n",
            "1688/1688 [==============================] - 4s 3ms/step - loss: 0.4425 - accuracy: 0.8418 - val_loss: 0.4593 - val_accuracy: 0.8368\n",
            "Epoch 4/20\n",
            "1688/1688 [==============================] - 4s 3ms/step - loss: 0.4102 - accuracy: 0.8532 - val_loss: 0.4289 - val_accuracy: 0.8478\n",
            "Epoch 5/20\n",
            "1688/1688 [==============================] - 4s 3ms/step - loss: 0.3882 - accuracy: 0.8608 - val_loss: 0.3885 - val_accuracy: 0.8608\n",
            "Epoch 6/20\n",
            "1688/1688 [==============================] - 4s 3ms/step - loss: 0.3704 - accuracy: 0.8668 - val_loss: 0.4056 - val_accuracy: 0.8552\n",
            "Epoch 7/20\n",
            "1688/1688 [==============================] - 4s 3ms/step - loss: 0.3561 - accuracy: 0.8712 - val_loss: 0.3761 - val_accuracy: 0.8647\n",
            "Epoch 8/20\n",
            "1688/1688 [==============================] - 4s 3ms/step - loss: 0.3432 - accuracy: 0.8755 - val_loss: 0.3803 - val_accuracy: 0.8590\n",
            "Epoch 9/20\n",
            "1688/1688 [==============================] - 4s 3ms/step - loss: 0.3317 - accuracy: 0.8791 - val_loss: 0.3725 - val_accuracy: 0.8658\n",
            "Epoch 10/20\n",
            "1688/1688 [==============================] - 4s 3ms/step - loss: 0.3232 - accuracy: 0.8821 - val_loss: 0.3592 - val_accuracy: 0.8670\n",
            "Epoch 11/20\n",
            "1688/1688 [==============================] - 4s 3ms/step - loss: 0.3141 - accuracy: 0.8845 - val_loss: 0.3499 - val_accuracy: 0.8733\n",
            "Epoch 12/20\n",
            "1688/1688 [==============================] - 4s 3ms/step - loss: 0.3056 - accuracy: 0.8878 - val_loss: 0.3991 - val_accuracy: 0.8498\n",
            "Epoch 13/20\n",
            "1688/1688 [==============================] - 4s 3ms/step - loss: 0.2993 - accuracy: 0.8909 - val_loss: 0.3502 - val_accuracy: 0.8710\n",
            "Epoch 14/20\n",
            "1688/1688 [==============================] - 5s 3ms/step - loss: 0.2926 - accuracy: 0.8918 - val_loss: 0.3523 - val_accuracy: 0.8672\n"
          ],
          "name": "stdout"
        }
      ]
    },
    {
      "cell_type": "code",
      "metadata": {
        "id": "JGivOpyKodN6",
        "colab_type": "code",
        "colab": {
          "base_uri": "https://localhost:8080/",
          "height": 51
        },
        "outputId": "d0d2c647-6f27-44b1-95d5-b7eb536f428a"
      },
      "source": [
        "model.evaluate(X_test,y_test)"
      ],
      "execution_count": 32,
      "outputs": [
        {
          "output_type": "stream",
          "text": [
            "313/313 [==============================] - 0s 1ms/step - loss: 0.3754 - accuracy: 0.8638\n"
          ],
          "name": "stdout"
        },
        {
          "output_type": "execute_result",
          "data": {
            "text/plain": [
              "[0.3754490315914154, 0.8637999892234802]"
            ]
          },
          "metadata": {
            "tags": []
          },
          "execution_count": 32
        }
      ]
    },
    {
      "cell_type": "code",
      "metadata": {
        "id": "H6b5Rfp1ofw0",
        "colab_type": "code",
        "colab": {
          "base_uri": "https://localhost:8080/",
          "height": 545
        },
        "outputId": "3e6e6909-fc3c-404b-e8d0-db48d68bf634"
      },
      "source": [
        "import matplotlib.pyplot as plt\n",
        "acc = history.history['accuracy']\n",
        "val_acc = history.history['val_accuracy']\n",
        "loss = history.history['loss']\n",
        "val_loss = history.history['val_loss']\n",
        "\n",
        "epochs = range(len(acc))\n",
        "\n",
        "plt.plot(epochs, acc, 'bo', label='Training accuracy')\n",
        "plt.plot(epochs, val_acc, 'b', label='Validation accuracy')\n",
        "plt.title('Training and validation accuracy')\n",
        "\n",
        "plt.figure()\n",
        "\n",
        "plt.plot(epochs, loss, 'bo', label='Training Loss')\n",
        "plt.plot(epochs, val_loss, 'b', label='Validation Loss')\n",
        "plt.title('Training and validation loss')\n",
        "plt.legend()\n",
        "\n",
        "plt.show()"
      ],
      "execution_count": 33,
      "outputs": [
        {
          "output_type": "display_data",
          "data": {
            "image/png": "[encoded data removed]",
            "text/plain": [
              "<Figure size 432x288 with 1 Axes>"
            ]
          },
          "metadata": {
            "tags": [],
            "needs_background": "light"
          }
        },
        {
          "output_type": "display_data",
          "data": {
            "image/png": "[encoded data removed]",
            "text/plain": [
              "<Figure size 432x288 with 1 Axes>"
            ]
          },
          "metadata": {
            "tags": [],
            "needs_background": "light"
          }
        }
      ]
    },
    {
      "cell_type": "code",
      "metadata": {
        "id": "6xA2HNCOojGG",
        "colab_type": "code",
        "colab": {}
      },
      "source": [
        ""
      ],
      "execution_count": null,
      "outputs": []
    }
  ]
}